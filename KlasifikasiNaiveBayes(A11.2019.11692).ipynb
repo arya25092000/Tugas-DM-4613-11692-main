{
  "nbformat": 4,
  "nbformat_minor": 0,
  "metadata": {
    "colab": {
      "name": "TP5(DM)-A11.2019.11810.ipynb",
      "provenance": [],
      "collapsed_sections": [],
      "toc_visible": true
    },
    "kernelspec": {
      "name": "python3",
      "display_name": "Python 3"
    },
    "language_info": {
      "name": "python"
    }
  },
  "cells": [
    {
      "cell_type": "code",
      "execution_count": 9,
      "metadata": {
        "id": "-XtQ-zY40eb_"
      },
      "outputs": [],
      "source": [
        "import numpy as np\n",
        "import pandas as pd\n",
        "import matplotlib.pyplot as plt"
      ]
    },
    {
      "cell_type": "code",
      "source": [
        "dataset=pd.read_csv(\"/content/pasar.csv\")\n",
        "x=dataset.iloc[:,[2,3]].values\n",
        "y=dataset.iloc[:,-1].values"
      ],
      "metadata": {
        "id": "Q0ZAXF6m0sg5"
      },
      "execution_count": 10,
      "outputs": []
    },
    {
      "cell_type": "code",
      "source": [
        "print(x)"
      ],
      "metadata": {
        "colab": {
          "base_uri": "https://localhost:8080/"
        },
        "id": "4mRWSSc00uhV",
        "outputId": "89a59767-0add-4bdf-b7aa-6e1b26f71892"
      },
      "execution_count": 11,
      "outputs": [
        {
          "output_type": "stream",
          "name": "stdout",
          "text": [
            "[[ 229  256]\n",
            " [ 128  442]\n",
            " [ 121  327]\n",
            " [   0    1]\n",
            " [ 162  250]\n",
            " [  55  388]\n",
            " [   0  189]\n",
            " [   0    0]\n",
            " [  38    0]\n",
            " [  42  477]\n",
            " [  50  306]\n",
            " [  35  457]\n",
            " [  68  312]\n",
            " [  61 1148]\n",
            " [ 458    0]\n",
            " [   0   56]\n",
            " [  34  236]\n",
            " [  53   46]\n",
            " [   0  195]\n",
            " [  32  196]\n",
            " [ 141  581]\n",
            " [   6  191]\n",
            " [ 130  252]\n",
            " [ 126  355]\n",
            " [  19  106]\n",
            " [   6   34]\n",
            " [  14  175]\n",
            " [  43  343]\n",
            " [  26  521]\n",
            " [  44  121]\n",
            " [  29  243]\n",
            " [  49  112]\n",
            " [  20  733]\n",
            " [   1  600]\n",
            " [  23   83]\n",
            " [  16   32]\n",
            " [   0   87]\n",
            " [  53  324]\n",
            " [  27  505]\n",
            " [  74  279]\n",
            " [   3    4]\n",
            " [   0   14]\n",
            " [  68  263]\n",
            " [  88  407]\n",
            " [  41  236]\n",
            " [  32  120]\n",
            " [  22   98]\n",
            " [  16    0]\n",
            " [  90  512]\n",
            " [ 141  592]\n",
            " [  19  151]\n",
            " [   0  171]\n",
            " [   0    0]\n",
            " [  80  121]\n",
            " [  43  477]\n",
            " [ 474    6]]\n"
          ]
        }
      ]
    },
    {
      "cell_type": "code",
      "source": [
        "print(y)"
      ],
      "metadata": {
        "colab": {
          "base_uri": "https://localhost:8080/"
        },
        "id": "DCV5TG8D1T1t",
        "outputId": "dd4b7b18-e0f6-48c1-f8ee-51a77e4cab9a"
      },
      "execution_count": 12,
      "outputs": [
        {
          "output_type": "stream",
          "name": "stdout",
          "text": [
            "[0 0 0 0 0 0 0 1 0 0 1 1 1 0 0 0 1 1 0 1 1 0 1 0 0 0 1 1 1 1 0 0 1 0 1 0 1\n",
            " 1 0 1 0 0 1 1 0 0 1 1 1 0 0 1 1 1 0 0]\n"
          ]
        }
      ]
    },
    {
      "cell_type": "code",
      "source": [
        "from sklearn.model_selection import train_test_split\n",
        "x_train, x_test, y_train, y_test=train_test_split(x, y, test_size=0.25, random_state=0)"
      ],
      "metadata": {
        "id": "xMqUipMd1UeX"
      },
      "execution_count": 13,
      "outputs": []
    },
    {
      "cell_type": "code",
      "source": [
        "print(x_train)"
      ],
      "metadata": {
        "id": "Vy-sAe481YHO",
        "colab": {
          "base_uri": "https://localhost:8080/"
        },
        "outputId": "ca4d76ee-f45e-4eba-e6d4-a8a1d71d166d"
      },
      "execution_count": 14,
      "outputs": [
        {
          "output_type": "stream",
          "name": "stdout",
          "text": [
            "[[  49  112]\n",
            " [ 141  592]\n",
            " [  53  324]\n",
            " [   0    0]\n",
            " [ 458    0]\n",
            " [  43  343]\n",
            " [  16   32]\n",
            " [  19  151]\n",
            " [   0  195]\n",
            " [   0    0]\n",
            " [  23   83]\n",
            " [   0   56]\n",
            " [  55  388]\n",
            " [  44  121]\n",
            " [  34  236]\n",
            " [  43  477]\n",
            " [ 141  581]\n",
            " [  90  512]\n",
            " [  38    0]\n",
            " [  61 1148]\n",
            " [   6   34]\n",
            " [  53   46]\n",
            " [   0   14]\n",
            " [ 474    6]\n",
            " [  27  505]\n",
            " [ 128  442]\n",
            " [  68  312]\n",
            " [  68  263]\n",
            " [  19  106]\n",
            " [   0  189]\n",
            " [ 126  355]\n",
            " [   0   87]\n",
            " [   6  191]\n",
            " [  32  196]\n",
            " [  42  477]\n",
            " [  74  279]\n",
            " [   0  171]\n",
            " [   0    1]\n",
            " [ 229  256]\n",
            " [  80  121]\n",
            " [  16    0]\n",
            " [  41  236]]\n"
          ]
        }
      ]
    },
    {
      "cell_type": "code",
      "source": [
        "print(x_test)"
      ],
      "metadata": {
        "id": "KvbJhuNS1czm",
        "colab": {
          "base_uri": "https://localhost:8080/"
        },
        "outputId": "6d72b0ec-c06a-4813-c13a-db5863ce3764"
      },
      "execution_count": 15,
      "outputs": [
        {
          "output_type": "stream",
          "name": "stdout",
          "text": [
            "[[ 32 120]\n",
            " [  1 600]\n",
            " [  3   4]\n",
            " [ 14 175]\n",
            " [ 35 457]\n",
            " [121 327]\n",
            " [ 20 733]\n",
            " [ 88 407]\n",
            " [ 22  98]\n",
            " [ 29 243]\n",
            " [162 250]\n",
            " [ 50 306]\n",
            " [ 26 521]\n",
            " [130 252]]\n"
          ]
        }
      ]
    },
    {
      "cell_type": "code",
      "source": [
        "print(y_train)"
      ],
      "metadata": {
        "id": "uULKgjDP1elv",
        "colab": {
          "base_uri": "https://localhost:8080/"
        },
        "outputId": "f4083acb-a09e-4d12-bc5c-648a26fefa89"
      },
      "execution_count": 16,
      "outputs": [
        {
          "output_type": "stream",
          "name": "stdout",
          "text": [
            "[0 0 1 1 0 1 0 0 0 1 1 0 0 1 1 0 1 1 0 0 0 1 0 0 0 0 1 1 0 0 0 1 0 1 0 1 1\n",
            " 0 0 1 1 0]\n"
          ]
        }
      ]
    },
    {
      "cell_type": "code",
      "source": [
        "print(y_test)"
      ],
      "metadata": {
        "id": "e5uejMex1ilS",
        "colab": {
          "base_uri": "https://localhost:8080/"
        },
        "outputId": "b59ae4ea-88dd-4aad-d939-9b1b33f64a83"
      },
      "execution_count": 17,
      "outputs": [
        {
          "output_type": "stream",
          "name": "stdout",
          "text": [
            "[0 0 0 1 1 0 1 1 1 0 0 1 1 1]\n"
          ]
        }
      ]
    },
    {
      "cell_type": "code",
      "source": [
        "from sklearn.preprocessing import StandardScaler\n",
        "sc=StandardScaler()\n",
        "x_train=sc.fit_transform(x_train)\n",
        "x_test=sc.transform(x_test)"
      ],
      "metadata": {
        "id": "jj688gzE1kfW"
      },
      "execution_count": 18,
      "outputs": []
    },
    {
      "cell_type": "code",
      "source": [
        "print(x_train)"
      ],
      "metadata": {
        "id": "ZBTKn9NG1mm9",
        "colab": {
          "base_uri": "https://localhost:8080/"
        },
        "outputId": "77063083-4145-4965-e35e-2acd71777c9c"
      },
      "execution_count": 19,
      "outputs": [
        {
          "output_type": "stream",
          "name": "stdout",
          "text": [
            "[[-0.17351305 -0.51824035]\n",
            " [ 0.73373247  1.59925569]\n",
            " [-0.1340676   0.41698707]\n",
            " [-0.65671991 -1.01232276]\n",
            " [ 3.85978497 -1.01232276]\n",
            " [-0.23268124  0.50080462]\n",
            " [-0.49893808 -0.87115636]\n",
            " [-0.46935398 -0.3461938 ]\n",
            " [-0.65671991 -0.15208999]\n",
            " [-0.65671991 -1.01232276]\n",
            " [-0.42990853 -0.6461724 ]\n",
            " [-0.65671991 -0.76528155]\n",
            " [-0.11434487  0.69931987]\n",
            " [-0.22281988 -0.4785373 ]\n",
            " [-0.32143352  0.02877946]\n",
            " [-0.23268124  1.09193893]\n",
            " [ 0.73373247  1.55072974]\n",
            " [ 0.23080288  1.24633968]\n",
            " [-0.28198806 -1.01232276]\n",
            " [-0.05517668  4.05202193]\n",
            " [-0.59755172 -0.86233346]\n",
            " [-0.1340676  -0.80939606]\n",
            " [-0.65671991 -0.95056246]\n",
            " [ 4.0175668  -0.98585406]\n",
            " [-0.39046307  1.21545953]\n",
            " [ 0.60553473  0.93753818]\n",
            " [ 0.01385287  0.36404967]\n",
            " [ 0.01385287  0.14788861]\n",
            " [-0.46935398 -0.54470905]\n",
            " [-0.65671991 -0.17855869]\n",
            " [ 0.585812    0.55374202]\n",
            " [-0.65671991 -0.6285266 ]\n",
            " [-0.59755172 -0.16973579]\n",
            " [-0.34115625 -0.14767854]\n",
            " [-0.2425426   1.09193893]\n",
            " [ 0.07302106  0.21847181]\n",
            " [-0.65671991 -0.2579648 ]\n",
            " [-0.65671991 -1.00791131]\n",
            " [ 1.60153253  0.11700846]\n",
            " [ 0.13218924 -0.4785373 ]\n",
            " [-0.49893808 -1.01232276]\n",
            " [-0.25240397  0.02877946]]\n"
          ]
        }
      ]
    },
    {
      "cell_type": "code",
      "source": [
        "print(x_test)"
      ],
      "metadata": {
        "id": "sSduZ12o1oip",
        "colab": {
          "base_uri": "https://localhost:8080/"
        },
        "outputId": "3302ed84-7db3-4d6f-b486-6a768157ed56"
      },
      "execution_count": 20,
      "outputs": [
        {
          "output_type": "stream",
          "name": "stdout",
          "text": [
            "[[-0.34115625 -0.48294875]\n",
            " [-0.64685854  1.63454729]\n",
            " [-0.62713581 -0.99467696]\n",
            " [-0.51866081 -0.24031899]\n",
            " [-0.31157215  1.00370993]\n",
            " [ 0.53650518  0.43022142]\n",
            " [-0.45949262  2.22127015]\n",
            " [ 0.21108016  0.78313742]\n",
            " [-0.43976989 -0.58000065]\n",
            " [-0.37074034  0.05965961]\n",
            " [ 0.94082112  0.09053976]\n",
            " [-0.16365169  0.33758097]\n",
            " [-0.40032443  1.28604273]\n",
            " [ 0.62525746  0.09936266]]\n"
          ]
        }
      ]
    },
    {
      "cell_type": "code",
      "source": [
        "from sklearn.naive_bayes import GaussianNB\n",
        "classifier=GaussianNB()\n",
        "classifier.fit(x_train, y_train)"
      ],
      "metadata": {
        "id": "Q0Yn2IM61wio",
        "colab": {
          "base_uri": "https://localhost:8080/"
        },
        "outputId": "2ed80cb3-8200-4a8f-e074-ea545f6b49a9"
      },
      "execution_count": 21,
      "outputs": [
        {
          "output_type": "execute_result",
          "data": {
            "text/plain": [
              "GaussianNB()"
            ]
          },
          "metadata": {},
          "execution_count": 21
        }
      ]
    },
    {
      "cell_type": "code",
      "source": [
        "y_pred=classifier.predict(x_test) "
      ],
      "metadata": {
        "id": "d-1rGZCjUzjb"
      },
      "execution_count": 22,
      "outputs": []
    },
    {
      "cell_type": "code",
      "source": [
        "from sklearn.metrics import confusion_matrix\n",
        "cm=confusion_matrix(y_test, y_pred)\n",
        "print(cm)"
      ],
      "metadata": {
        "id": "9sGbgi3J11mk",
        "colab": {
          "base_uri": "https://localhost:8080/"
        },
        "outputId": "f7f379e7-ef2a-45b5-a0e9-0b5046691281"
      },
      "execution_count": 23,
      "outputs": [
        {
          "output_type": "stream",
          "name": "stdout",
          "text": [
            "[[3 3]\n",
            " [2 6]]\n"
          ]
        }
      ]
    },
    {
      "cell_type": "code",
      "source": [
        "from matplotlib.colors import ListedColormap\n",
        "x_set, y_set=x_train, y_train\n",
        "x1, x2=np.meshgrid(np.arange(start=x_set[:, 0].min()-1, stop=x_set[:, 0].max()+1, step=0.01), \n",
        "                   np.arange(start=x_set[:, 1].min()-1, stop=x_set[:, 0].max()+1, step=0.01))\n",
        "plt.contourf(x1, x2, classifier.predict(np.array([x1.ravel(), x2.ravel()]).T).reshape(x1.shape),\n",
        "             alpha=0.75, cmap=ListedColormap(('red', 'green')))\n",
        "plt.xlim(x1.min(), x1.max())\n",
        "plt.ylim(x2.min(), x2.max())\n",
        "for i, j in enumerate(np.unique(y_set)):\n",
        "  plt.scatter(x_set[y_set==j, 0], x_set[y_set==j, 1], \n",
        "              c=ListedColormap(('red','green'))(i), label=j)\n",
        "plt.title('Klasifikasi data dengan naive bayes(data training)')\n",
        "plt.xlabel('Kios')\n",
        "plt.ylabel('Los')\n",
        "plt.legend()\n",
        "plt.show()"
      ],
      "metadata": {
        "id": "2TZaX3E12MbL",
        "colab": {
          "base_uri": "https://localhost:8080/",
          "height": 350
        },
        "outputId": "8d2846b9-8efa-4c44-e07e-31a629d34b80"
      },
      "execution_count": 24,
      "outputs": [
        {
          "output_type": "stream",
          "name": "stderr",
          "text": [
            "*c* argument looks like a single numeric RGB or RGBA sequence, which should be avoided as value-mapping will have precedence in case its length matches with *x* & *y*.  Please use the *color* keyword-argument or provide a 2-D array with a single row if you intend to specify the same RGB or RGBA value for all points.\n",
            "*c* argument looks like a single numeric RGB or RGBA sequence, which should be avoided as value-mapping will have precedence in case its length matches with *x* & *y*.  Please use the *color* keyword-argument or provide a 2-D array with a single row if you intend to specify the same RGB or RGBA value for all points.\n"
          ]
        },
        {
          "output_type": "display_data",
          "data": {
            "text/plain": [
              "<Figure size 432x288 with 1 Axes>"
            ],
            "image/png": "[encoded data removed]"
          },
          "metadata": {
            "needs_background": "light"
          }
        }
      ]
    },
    {
      "cell_type": "code",
      "source": [
        "from matplotlib.colors import ListedColormap\n",
        "x_set, y_set=x_test, y_test\n",
        "x1, x2=np.meshgrid(np.arange(start=x_set[:, 0].min()-1, stop=x_set[:, 0].max()+1, step=0.01), \n",
        "                   np.arange(start=x_set[:, 1].min()-1, stop=x_set[:, 0].max()+1, step=0.01))\n",
        "plt.contourf(x1, x2, classifier.predict(np.array([x1.ravel(), x2.ravel()]).T).reshape(x1.shape),\n",
        "             alpha=0.75, cmap=ListedColormap(('red', 'green')))\n",
        "plt.xlim(x1.min(), x1.max())\n",
        "plt.ylim(x2.min(), x2.max())\n",
        "for i, j in enumerate(np.unique(y_set)):\n",
        "  plt.scatter(x_set[y_set==j, 0], x_set[y_set==j, 1], \n",
        "              c=ListedColormap(('red','green'))(i), label=j)\n",
        "plt.title('Klasifikasi data dengan naive bayes(data training)')\n",
        "plt.xlabel('Kios')\n",
        "plt.ylabel('Los')\n",
        "plt.legend()\n",
        "plt.show()"
      ],
      "metadata": {
        "id": "-OHl7jxI2QDQ",
        "colab": {
          "base_uri": "https://localhost:8080/",
          "height": 350
        },
        "outputId": "a3a54e85-6264-4af1-a8de-65bf2db61948"
      },
      "execution_count": 25,
      "outputs": [
        {
          "output_type": "stream",
          "name": "stderr",
          "text": [
            "*c* argument looks like a single numeric RGB or RGBA sequence, which should be avoided as value-mapping will have precedence in case its length matches with *x* & *y*.  Please use the *color* keyword-argument or provide a 2-D array with a single row if you intend to specify the same RGB or RGBA value for all points.\n",
            "*c* argument looks like a single numeric RGB or RGBA sequence, which should be avoided as value-mapping will have precedence in case its length matches with *x* & *y*.  Please use the *color* keyword-argument or provide a 2-D array with a single row if you intend to specify the same RGB or RGBA value for all points.\n"
          ]
        },
        {
          "output_type": "display_data",
          "data": {
            "text/plain": [
              "<Figure size 432x288 with 1 Axes>"
            ],
            "image/png": "[encoded data removed]"
          },
          "metadata": {
            "needs_background": "light"
          }
        }
      ]
    }
  ]
}